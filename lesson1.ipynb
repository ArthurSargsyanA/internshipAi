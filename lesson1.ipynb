{
  "nbformat": 4,
  "nbformat_minor": 0,
  "metadata": {
    "colab": {
      "provenance": [],
      "authorship_tag": "ABX9TyPVjzfxTPg/OzrCPJtEkFg6",
      "include_colab_link": true
    },
    "kernelspec": {
      "name": "python3",
      "display_name": "Python 3"
    },
    "language_info": {
      "name": "python"
    }
  },
  "cells": [
    {
      "cell_type": "markdown",
      "metadata": {
        "id": "view-in-github",
        "colab_type": "text"
      },
      "source": [
        "<a href=\"https://colab.research.google.com/github/ArthurSargsyanA/internshipAi/blob/main/lesson1.ipynb\" target=\"_parent\"><img src=\"https://colab.research.google.com/assets/colab-badge.svg\" alt=\"Open In Colab\"/></a>"
      ]
    },
    {
      "cell_type": "markdown",
      "source": [
        "Define an abstract base class for a data storage system, with methods like save(), load(), and delete(). Implement concrete subclasses representing different storage systems, database storage, ensuring they adhere to the abstract interface."
      ],
      "metadata": {
        "id": "q4dMLoREvZLf"
      }
    },
    {
      "cell_type": "code",
      "source": [
        "import os\n",
        "from abc import ABC, abstractmethod\n",
        "\n",
        "class DataStorage(ABC):\n",
        "    @abstractmethod\n",
        "    def save(self, data):\n",
        "        pass\n",
        "\n",
        "    @abstractmethod\n",
        "    def load(self):\n",
        "        pass\n",
        "\n",
        "    @abstractmethod\n",
        "    def delete(self):\n",
        "        pass\n",
        "\n",
        "class FileStorage(DataStorage):\n",
        "    def __init__(self, file_path):\n",
        "        self.file_path = file_path\n",
        "\n",
        "    def save(self, data):\n",
        "        with open(self.file_path, 'w') as file:\n",
        "            file.write(data)\n",
        "        print(\"Saving data\")\n",
        "\n",
        "    def load(self):\n",
        "        with open(self.file_path, 'r') as file:\n",
        "            return file.read()\n",
        "        print(\"Loading data\")\n",
        "    def delete(self):\n",
        "        os.remove(self.file_path)\n",
        "        print(\"Deleting data\")\n",
        "\n",
        "class DatabaseStorage(DataStorage):\n",
        "    def __init__(self):\n",
        "        self.dict = {}\n",
        "\n",
        "    def save(self, key, data):\n",
        "        self.dict[key] = data\n",
        "        print(f\"Saving data with key '{key}' \")\n",
        "\n",
        "    def load(self, key):\n",
        "        if key in self.dict:\n",
        "            print(f\"Loading data with key '{key}' \")\n",
        "            return self.dict[key]\n",
        "        else:\n",
        "            print(f\"No data found with key '{key}' \")\n",
        "\n",
        "    def delete(self, key):\n",
        "        if key in self.dict:\n",
        "            del self.dict[key]\n",
        "            print(f\"Deleting data with key '{key}' \")\n",
        "        else:\n",
        "            print(f\"No data found with key '{key}' \")"
      ],
      "metadata": {
        "id": "YD63lZXdcxWc"
      },
      "execution_count": 16,
      "outputs": []
    },
    {
      "cell_type": "markdown",
      "source": [
        "Implement a metaclass that automatically adds type checking to class attributes. Define a class with attributes of different types, and observe how the metaclass enforces type checking during attribute assignment."
      ],
      "metadata": {
        "id": "H1HGpdpOIAC8"
      }
    },
    {
      "cell_type": "code",
      "source": [
        "class TypeCheckMeta(type):\n",
        "    def __new__(cls, name, bases, attrs):\n",
        "        new_attrs = {}\n",
        "        for attr_name, attr_value in attrs.items():\n",
        "            if not attr_name.startswith('__') and isinstance(attr_value, type):\n",
        "                new_attrs[attr_name] = cls._add_type_check(attr_name, attr_value)\n",
        "            else:\n",
        "                new_attrs[attr_name] = attr_value\n",
        "        return super().__new__(cls, name, bases, new_attrs)\n",
        "\n",
        "    @staticmethod\n",
        "    def _add_type_check(attr_name, attr_type):\n",
        "        def type_check_getter(instance):\n",
        "            return instance.__dict__[attr_name]\n",
        "\n",
        "        def type_check_setter(instance, value):\n",
        "            if not isinstance(value, attr_type):\n",
        "                raise TypeError(f\"Invalid type for '{attr_name}': expected {attr_type.__name__}, got {type(value).__name__}\")\n",
        "            instance.__dict__[attr_name] = value\n",
        "\n",
        "        return property(type_check_getter, type_check_setter)\n",
        "\n",
        "\n",
        "# Example usage\n",
        "class MyClass(metaclass=TypeCheckMeta):\n",
        "    name = str\n",
        "    age = int\n",
        "    height = float\n",
        "\n",
        "\n",
        "# Testing the type checking\n",
        "obj = MyClass()\n",
        "obj.name = \"John\"  # Valid assignment\n",
        "print(obj.name)  # Output: John\n",
        "\n",
        "obj.age = 30  # Valid assignment\n",
        "print(obj.age)  # Output: 30\n",
        "\n",
        "obj.height = 1.8  # Valid assignment\n",
        "print(obj.height)  # Output: 1.8\n",
        "\n",
        "obj.name = 42  # Invalid assignment, raises TypeError\n",
        "\n",
        "# Accessing obj.name after the invalid assignment\n",
        "print(obj.name)"
      ],
      "metadata": {
        "colab": {
          "base_uri": "https://localhost:8080/",
          "height": 409
        },
        "id": "MrF6OxsUmHb9",
        "outputId": "1c2e0597-44e3-490c-a0d1-9c8a901e0663"
      },
      "execution_count": 9,
      "outputs": [
        {
          "output_type": "stream",
          "name": "stdout",
          "text": [
            "John\n",
            "30\n",
            "1.8\n"
          ]
        },
        {
          "output_type": "error",
          "ename": "TypeError",
          "evalue": "ignored",
          "traceback": [
            "\u001b[0;31m---------------------------------------------------------------------------\u001b[0m",
            "\u001b[0;31mTypeError\u001b[0m                                 Traceback (most recent call last)",
            "\u001b[0;32m<ipython-input-9-937d021ac3b2>\u001b[0m in \u001b[0;36m<cell line: 42>\u001b[0;34m()\u001b[0m\n\u001b[1;32m     40\u001b[0m \u001b[0mprint\u001b[0m\u001b[0;34m(\u001b[0m\u001b[0mobj\u001b[0m\u001b[0;34m.\u001b[0m\u001b[0mheight\u001b[0m\u001b[0;34m)\u001b[0m  \u001b[0;31m# Output: 1.8\u001b[0m\u001b[0;34m\u001b[0m\u001b[0;34m\u001b[0m\u001b[0m\n\u001b[1;32m     41\u001b[0m \u001b[0;34m\u001b[0m\u001b[0m\n\u001b[0;32m---> 42\u001b[0;31m \u001b[0mobj\u001b[0m\u001b[0;34m.\u001b[0m\u001b[0mname\u001b[0m \u001b[0;34m=\u001b[0m \u001b[0;36m42\u001b[0m  \u001b[0;31m# Invalid assignment, raises TypeError\u001b[0m\u001b[0;34m\u001b[0m\u001b[0;34m\u001b[0m\u001b[0m\n\u001b[0m\u001b[1;32m     43\u001b[0m \u001b[0;34m\u001b[0m\u001b[0m\n\u001b[1;32m     44\u001b[0m \u001b[0;31m# Accessing obj.name after the invalid assignment\u001b[0m\u001b[0;34m\u001b[0m\u001b[0;34m\u001b[0m\u001b[0m\n",
            "\u001b[0;32m<ipython-input-9-937d021ac3b2>\u001b[0m in \u001b[0;36mtype_check_setter\u001b[0;34m(instance, value)\u001b[0m\n\u001b[1;32m     16\u001b[0m         \u001b[0;32mdef\u001b[0m \u001b[0mtype_check_setter\u001b[0m\u001b[0;34m(\u001b[0m\u001b[0minstance\u001b[0m\u001b[0;34m,\u001b[0m \u001b[0mvalue\u001b[0m\u001b[0;34m)\u001b[0m\u001b[0;34m:\u001b[0m\u001b[0;34m\u001b[0m\u001b[0;34m\u001b[0m\u001b[0m\n\u001b[1;32m     17\u001b[0m             \u001b[0;32mif\u001b[0m \u001b[0;32mnot\u001b[0m \u001b[0misinstance\u001b[0m\u001b[0;34m(\u001b[0m\u001b[0mvalue\u001b[0m\u001b[0;34m,\u001b[0m \u001b[0mattr_type\u001b[0m\u001b[0;34m)\u001b[0m\u001b[0;34m:\u001b[0m\u001b[0;34m\u001b[0m\u001b[0;34m\u001b[0m\u001b[0m\n\u001b[0;32m---> 18\u001b[0;31m                 \u001b[0;32mraise\u001b[0m \u001b[0mTypeError\u001b[0m\u001b[0;34m(\u001b[0m\u001b[0;34mf\"Invalid type for '{attr_name}': expected {attr_type.__name__}, got {type(value).__name__}\"\u001b[0m\u001b[0;34m)\u001b[0m\u001b[0;34m\u001b[0m\u001b[0;34m\u001b[0m\u001b[0m\n\u001b[0m\u001b[1;32m     19\u001b[0m             \u001b[0minstance\u001b[0m\u001b[0;34m.\u001b[0m\u001b[0m__dict__\u001b[0m\u001b[0;34m[\u001b[0m\u001b[0mattr_name\u001b[0m\u001b[0;34m]\u001b[0m \u001b[0;34m=\u001b[0m \u001b[0mvalue\u001b[0m\u001b[0;34m\u001b[0m\u001b[0;34m\u001b[0m\u001b[0m\n\u001b[1;32m     20\u001b[0m \u001b[0;34m\u001b[0m\u001b[0m\n",
            "\u001b[0;31mTypeError\u001b[0m: Invalid type for 'name': expected str, got int"
          ]
        }
      ]
    },
    {
      "cell_type": "markdown",
      "source": [
        "Implement a hierarchy of classes representing different types of vehicles, such as cars, motorcycles, and bicycles. Demonstrate inheritance, method overriding, and polymorphism by implementing common methods and attributes specific to each vehicle type."
      ],
      "metadata": {
        "id": "GBDgC8aJH33P"
      }
    },
    {
      "cell_type": "code",
      "source": [
        "from abc import ABC, abstractmethod\n",
        "\n",
        "class Vehicle(ABC):\n",
        "    def __init__(self, brand, model, color):\n",
        "        self.brand = brand\n",
        "        self.model = model\n",
        "        self.color = color\n",
        "\n",
        "    @abstractmethod\n",
        "    def start_engine(self):\n",
        "        pass\n",
        "\n",
        "    def stop_engine(self):\n",
        "        print(\"Stopping the engine.\")\n",
        "\n",
        "\n",
        "class Car(Vehicle):\n",
        "    def __init__(self, brand, model, color, num_doors):\n",
        "        super().__init__(brand, model, color)\n",
        "        self.num_doors = num_doors\n",
        "\n",
        "    def start_engine(self):\n",
        "        print(\"Starting the car's engine.\")\n",
        "\n",
        "    def open_trunk(self):\n",
        "        print(\"Opening the trunk.\")\n",
        "\n",
        "\n",
        "class Motorcycle(Vehicle):\n",
        "    def __init__(self, brand, model, color, num_cylinders):\n",
        "        super().__init__(brand, model, color)\n",
        "        self. num_cylinders =  num_cylinders\n",
        "\n",
        "    def start_engine(self):\n",
        "        print(\"Starting the motorcycle's engine.\")\n",
        "\n",
        "    def stunt_jump(self):\n",
        "        print(\"Performing a stunt jump.\")\n",
        "\n",
        "\n",
        "class Bicycle(Vehicle):\n",
        "    def __init__(self, brand, model, color, num_wheels):\n",
        "        super().__init__(brand, model, color)\n",
        "        self.num_wheels = num_wheels\n",
        "\n",
        "    def start_engine(self):\n",
        "        print(\"Starting the engine.\")\n",
        "\n",
        "    def ring_bell(self):\n",
        "        print(\"The bicycle bell rings.\")\n",
        ""
      ],
      "metadata": {
        "id": "bt5P1PuIm4-b"
      },
      "execution_count": 20,
      "outputs": []
    },
    {
      "cell_type": "markdown",
      "source": [
        "You are writing an inventory application for a budding tech guy who has a video channel featuring computer builds. Basically they have a pool of inventory, (for example 5 x AMD Ryzen 2-2700 CPUs) that they use for builds. When they take a CPU from the pool. They will indicate this using the object that tracks that specific type of CPU. They may also purchase additional CPUs, or retire some (because they overclocked it too much and burnt them out).\n",
        "Technically we would want a database to back all this data, but here we’re just going to build classes we’ll use while our program is running and not worry about retrieving or saving the state of the inventory.\n",
        "The base class is going to be a general Resource. This class should provide functionality common to all the actual resources (CPU, GPU, Memory, HDD, SSD) - for the exercise we’re only going to implement CPU, HDD and SSD.\n",
        "Input and Output examples\n",
        "It should provide this at minimum:\n",
        "name : user-friendly name of resource instance(e.g. Intel Core i9-9900K)\n",
        "manufacturer : resource instance manufacturer(e.g. Nvidia)\n",
        "total : inventory total(how many are in the inventory pool)\n",
        "allocated : number allocated(how many already in use)\n",
        "__str__ representation that just returns the resource name\n",
        "a mode detailed __repr__ implementation\n",
        "claim(m) : method to take n resources from the pool(as long as inventory os available)\n",
        "freeup(n) : method to return n resources to the pool(e.g disassembled some builds)\n",
        "died(n) : method to return and permanently remove inventory from the pool(e.g. They broke something) - as long as total available allows it\n",
        "purchased(n) : method to add inventory to the pool(e.g. They purchased a new CPU)\n",
        "Category - computed property that returns a lowercase version of the class name\n",
        "Hints\n",
        "For the CPU class:\n",
        "cores (e.g. 8)The SSD class extends Storage and has these additional properties:\n",
        "interface (e.g. PCIe NMVe 3.0 x4)\n",
        "socket (e.g. AM4)\n",
        "power_watts (e.g. 94)\n",
        "For the HDD and SSD classes, we’re going to create an intermediate class called Storage with these additional properties:\n",
        "capacity_GB (e.g. 120)\n",
        "The HDD class extends Storage and has these additional properties:\n",
        "size (e.g. 2.5\")\n",
        "rpm (e.g. 7000)\n",
        "The SSD class extends Storage and has these additional properties:\n",
        "interface (e.g. PCIe NMVe 3.0 x4)\n",
        "For all your classes, implement a full constructor that can be used to initialize all the properties, some form of validation on numeric types, as well customized __repr__ as you see fit.\n",
        "For the total and allocated values in the Resource init, think of the arguments there as the current total and allocated counts. Those total and allocated attributes should be private read-only properties, but they are modifiable through the various methods such as claim, return, died, purchased. Other attributes like name, manufacturer_name, etc should be read-only."
      ],
      "metadata": {
        "id": "hV1jCEYKQr-u"
      }
    },
    {
      "cell_type": "code",
      "source": [
        "class Resource:\n",
        "    def __init__(self, name, manufacturer, total, allocated):\n",
        "        self._name = name\n",
        "        self._manufacturer = manufacturer\n",
        "        self._total = total\n",
        "        self._allocated = allocated\n",
        "\n",
        "    @property\n",
        "    def name(self):\n",
        "        return self._name\n",
        "\n",
        "    @property\n",
        "    def manufacturer(self):\n",
        "        return self._manufacturer\n",
        "\n",
        "    @property\n",
        "    def total(self):\n",
        "        return self._total\n",
        "\n",
        "    @property\n",
        "    def allocated(self):\n",
        "        return self._allocated\n",
        "\n",
        "    def __str__(self):\n",
        "        return self._name\n",
        "\n",
        "    def __repr__(self):\n",
        "        return f\"{self._manufacturer} {self._name}\"\n",
        "\n",
        "    def claim(self, n):\n",
        "        if self._total - self._allocated >= n:\n",
        "            self._allocated += n\n",
        "        else:\n",
        "            print(f\"Not enough {self._name} available.\")\n",
        "\n",
        "    def freeup(self, n):\n",
        "        if self._allocated >= n:\n",
        "            self._allocated -= n\n",
        "        else:\n",
        "            print(f\"You only have {self._allocated} {self._name} allocated.\")\n",
        "\n",
        "    def died(self, n):\n",
        "        if self._total >= n:\n",
        "            self._total -= n\n",
        "            if self._allocated >= n:\n",
        "                self._allocated -= n\n",
        "        else:\n",
        "            print(f\"You only have {self._total} {self._name} available.\")\n",
        "\n",
        "    def purchased(self, n):\n",
        "        self._total += n\n",
        "\n",
        "\n",
        "class CPU(Resource):\n",
        "    def __init__(self, name, manufacturer, total, allocated, cores):\n",
        "        super().__init__(name, manufacturer, total, allocated)\n",
        "        self._cores = cores\n",
        "\n",
        "    @property\n",
        "    def cores(self):\n",
        "        return self._cores\n",
        "\n",
        "\n",
        "class Storage(Resource):\n",
        "    def __init__(self, name, manufacturer, total, allocated, capacity_GB):\n",
        "        super().__init__(name, manufacturer, total, allocated)\n",
        "        self._capacity_GB = capacity_GB\n",
        "\n",
        "    @property\n",
        "    def capacity_GB(self):\n",
        "        return self._capacity_GB\n",
        "\n",
        "\n",
        "class HDD(Storage):\n",
        "    def __init__(self, name, manufacturer, total, allocated, capacity_GB, size, rpm):\n",
        "        super().__init__(name, manufacturer, total, allocated, capacity_GB)\n",
        "        self._size = size\n",
        "        self._rpm = rpm\n",
        "\n",
        "    @property\n",
        "    def size(self):\n",
        "        return self._size\n",
        "\n",
        "    @property\n",
        "    def rpm(self):\n",
        "        return self._rpm\n",
        "\n",
        "\n",
        "class SSD(Storage):\n",
        "    def __init__(self, name, manufacturer, total, allocated, capacity_GB, interface):\n",
        "        super().__init__(name, manufacturer, total, allocated, capacity_GB)\n",
        "        self._interface = interface\n",
        "\n",
        "    @property\n",
        "    def interface(self):\n",
        "        return self._interface\n"
      ],
      "metadata": {
        "id": "7T56G4EI3eaU"
      },
      "execution_count": 22,
      "outputs": []
    },
    {
      "cell_type": "code",
      "source": [],
      "metadata": {
        "id": "3Jo4lMxjQRNX"
      },
      "execution_count": null,
      "outputs": []
    }
  ]
}